{
 "cells": [
  {
   "cell_type": "markdown",
   "metadata": {},
   "source": [
    "![Cabec%CC%A7alho_notebook.png](cabecalho_notebook.png)"
   ]
  },
  {
   "cell_type": "markdown",
   "metadata": {},
   "source": [
    "# PCA - Tarefa 01: *HAR* com PCA\n",
    "\n",
    "Vamos trabalhar com a base da demonstração feita em aula, mas vamos explorar um pouco melhor como é o desempenho da árvore variando o número de componentes principais."
   ]
  },
  {
   "cell_type": "code",
   "execution_count": 66,
   "metadata": {},
   "outputs": [],
   "source": [
    "import pandas as pd\n",
    "\n",
    "from sklearn.tree import DecisionTreeClassifier\n",
    "\n",
    "from sklearn.decomposition import PCA\n",
    "from sklearn.metrics import accuracy_score\n",
    "from sklearn.model_selection import cross_val_score\n",
    "from sklearn.model_selection import GridSearchCV\n",
    "\n",
    "import timeit\n",
    "\n",
    "import warnings\n",
    "\n",
    "warnings.filterwarnings(\"ignore\")\n",
    "\n",
    "filename_features = \"./Dados/UCI HAR Dataset/features.txt\"\n",
    "filename_labels = \"./Dados/UCI HAR Dataset/activity_labels.txt\"\n",
    "\n",
    "filename_subtrain = \"./Dados/UCI HAR Dataset/train/subject_train.txt\"\n",
    "filename_xtrain = \"./Dados/UCI HAR Dataset/train/X_train.txt\"\n",
    "filename_ytrain = \"./Dados/UCI HAR Dataset/train/y_train.txt\"\n",
    "\n",
    "filename_subtest = \"./Dados/UCI HAR Dataset/test/subject_test.txt\"\n",
    "ffilename_xtest = \"./Dados/UCI HAR Dataset/test/X_test.txt\"\n",
    "filename_ytest = \"./Dados/UCI HAR Dataset/test/y_test.txt\"\n",
    "\n",
    "features = pd.read_csv(filename_features, header=None, names=['nome_var'], sep=\"#\")\n",
    "features = features.squeeze('columns')\n",
    "feature_names = features.tolist()\n",
    "labels = pd.read_csv(filename_labels, delim_whitespace=True, header=None, names=['cod_label', 'label'])\n",
    "\n",
    "subject_train = pd.read_csv(filename_subtrain, header=None, names=['subject_id'])\n",
    "subject_train=subject_train.squeeze('columns')\n",
    "X_train = pd.read_csv(filename_xtrain, delim_whitespace=True, header=None, names=feature_names)\n",
    "y_train = pd.read_csv(filename_ytrain, header=None, names=['cod_label'])\n",
    "\n",
    "subject_test = pd.read_csv(filename_subtest, header=None, names=['subject_id'])\n",
    "subject_test=subject_test.squeeze('columns')\n",
    "X_test = pd.read_csv(ffilename_xtest, delim_whitespace=True, header=None, names=feature_names)\n",
    "y_test = pd.read_csv(filename_ytest, header=None, names=['cod_label'])"
   ]
  },
  {
   "cell_type": "markdown",
   "metadata": {},
   "source": [
    "## Árvore de decisão\n",
    "\n",
    "Rode uma árvore de decisão com todas as variáveis, utilizando o ```ccp_alpha=0.001```. Avalie a acurácia nas bases de treinamento e teste. Avalie o tempo de processamento."
   ]
  },
  {
   "cell_type": "code",
   "execution_count": 46,
   "metadata": {},
   "outputs": [
    {
     "name": "stdout",
     "output_type": "stream",
     "text": [
      "A acurácia nas bases de treinamento foi de 0.9758 e de teste de 0.8792\n",
      "CPU times: total: 4.88 s\n",
      "Wall time: 4.87 s\n"
     ]
    }
   ],
   "source": [
    "%%time\n",
    "clf = DecisionTreeClassifier(random_state=2360873, ccp_alpha=0.001).fit(X_train, y_train)\n",
    "train_scores = clf.score(X_train, y_train)\n",
    "test_scores = clf.score(X_test, y_test)\n",
    "print(f'A acurácia nas bases de treinamento foi de {train_scores:.4f} e de teste de {test_scores:.4f}')"
   ]
  },
  {
   "cell_type": "markdown",
   "metadata": {},
   "source": [
    "## Árvore com PCA\n",
    "\n",
    "Faça uma análise de componemtes principais das variáveis originais. Utilize apenas uma componente. Faça uma árvore de decisão com esta componente como variável explicativa.\n",
    "\n",
    "- Avalie a acurácia nas bases de treinamento e teste\n",
    "- Avalie o tempo de processamento"
   ]
  },
  {
   "cell_type": "code",
   "execution_count": 50,
   "metadata": {},
   "outputs": [
    {
     "name": "stdout",
     "output_type": "stream",
     "text": [
      "A acurácia nas bases de treinamento foi de 0.4997 e de teste de 0.4571\n",
      "CPU times: total: 781 ms\n",
      "Wall time: 235 ms\n"
     ]
    }
   ],
   "source": [
    "%%time\n",
    "#calcular componente\n",
    "prcomp = PCA(n_components=1).fit(X_train)\n",
    "\n",
    "pc_treino = prcomp.transform(X_train)\n",
    "pc_teste  = prcomp.transform(X_test)\n",
    "\n",
    "#dataframe\n",
    "n=1\n",
    "colunas = ['cp'+str(x+1) for x in list(range(n))]\n",
    "\n",
    "pc_train = pd.DataFrame(pc_treino[:,:n], columns = colunas)\n",
    "pc_test  = pd.DataFrame( pc_teste[:,:n], columns = colunas)\n",
    "\n",
    "#Árvore de decisão\n",
    "clf = DecisionTreeClassifier(random_state=2360873, ccp_alpha=0.001).fit(pc_train, y_train)\n",
    "train_scores = clf.score(pc_train, y_train)\n",
    "test_scores = clf.score(pc_test, y_test)\n",
    "print(f'A acurácia nas bases de treinamento foi de {train_scores:.4f} e de teste de {test_scores:.4f}')"
   ]
  },
  {
   "cell_type": "markdown",
   "metadata": {},
   "source": [
    "## Testando o número de componentes\n",
    "\n",
    "Com base no código acima, teste a árvore de classificação com pelo menos as seguintes possibilidades de quantidades de componentes: ```[1, 2, 5, 10, 50]```. Avalie para cada uma delas:\n",
    "\n",
    "- Acurácia nas bases de treino e teste\n",
    "- Tempo de processamento\n"
   ]
  },
  {
   "cell_type": "code",
   "execution_count": 64,
   "metadata": {},
   "outputs": [
    {
     "name": "stdout",
     "output_type": "stream",
     "text": [
      "Tempo: 0.20s\n",
      "A acurácia para 1 componetes nas bases de treinamento foi de 0.4997 e de teste de 0.4571\n",
      "Tempo: 0.21s\n",
      "A acurácia para 2 componetes nas bases de treinamento foi de 0.6128 e de teste de 0.5847\n",
      "Tempo: 0.21s\n",
      "A acurácia para 5 componetes nas bases de treinamento foi de 0.8460 e de teste de 0.7886\n",
      "Tempo: 0.34s\n",
      "A acurácia para 10 componetes nas bases de treinamento foi de 0.8935 e de teste de 0.8229\n",
      "Tempo: 0.91s\n",
      "A acurácia para 50 componetes nas bases de treinamento foi de 0.9166 e de teste de 0.8246\n"
     ]
    }
   ],
   "source": [
    "n = [1, 2, 5, 10, 50]\n",
    "for i in n:\n",
    "    start = timeit.default_timer()\n",
    "    #calcular componente\n",
    "    prcomp = PCA(n_components=i).fit(X_train)\n",
    "    \n",
    "    pc_treino = prcomp.transform(X_train)\n",
    "    pc_teste  = prcomp.transform(X_test)\n",
    "    \n",
    "    #dataframe\n",
    "    n=i\n",
    "    colunas = ['cp'+str(x+1) for x in list(range(n))]\n",
    "    \n",
    "    pc_train = pd.DataFrame(pc_treino[:,:n], columns = colunas)\n",
    "    pc_test  = pd.DataFrame( pc_teste[:,:n], columns = colunas)\n",
    "    \n",
    "    #Árvore de decisão\n",
    "    clf = DecisionTreeClassifier(random_state=2360873, ccp_alpha=0.001).fit(pc_train, y_train)\n",
    "    stop = timeit.default_timer()\n",
    "    train_scores = clf.score(pc_train, y_train)\n",
    "    test_scores = clf.score(pc_test, y_test)\n",
    "    print(f\"Tempo: {stop - start:.2f}s\")\n",
    "    print(f'A acurácia para {i} componetes nas bases de treinamento foi de {train_scores:.4f} e de teste de {test_scores:.4f}')"
   ]
  },
  {
   "cell_type": "markdown",
   "metadata": {},
   "source": [
    "## Conclua\n",
    "\n",
    "- O que aconteceu com a acurácia?\n",
    "- O que aconteceu com o tempo de processamento?"
   ]
  },
  {
   "cell_type": "markdown",
   "metadata": {},
   "source": [
    "    Com a utilização do PCA a tempo reduz drasticamente, porém ao utilizar poucos componentes nota-se que a acurácia diminui significantemente, ao utilizar mais componentes a acurácia aumenta e o tempo também. "
   ]
  },
  {
   "cell_type": "code",
   "execution_count": null,
   "metadata": {},
   "outputs": [],
   "source": []
  }
 ],
 "metadata": {
  "kernelspec": {
   "display_name": "Python 3 (ipykernel)",
   "language": "python",
   "name": "python3"
  },
  "language_info": {
   "codemirror_mode": {
    "name": "ipython",
    "version": 3
   },
   "file_extension": ".py",
   "mimetype": "text/x-python",
   "name": "python",
   "nbconvert_exporter": "python",
   "pygments_lexer": "ipython3",
   "version": "3.12.4"
  },
  "toc": {
   "base_numbering": 1,
   "nav_menu": {},
   "number_sections": true,
   "sideBar": true,
   "skip_h1_title": true,
   "title_cell": "Índice",
   "title_sidebar": "Conteúdo",
   "toc_cell": false,
   "toc_position": {},
   "toc_section_display": true,
   "toc_window_display": false
  },
  "varInspector": {
   "cols": {
    "lenName": 16,
    "lenType": 16,
    "lenVar": 40
   },
   "kernels_config": {
    "python": {
     "delete_cmd_postfix": "",
     "delete_cmd_prefix": "del ",
     "library": "var_list.py",
     "varRefreshCmd": "print(var_dic_list())"
    },
    "r": {
     "delete_cmd_postfix": ") ",
     "delete_cmd_prefix": "rm(",
     "library": "var_list.r",
     "varRefreshCmd": "cat(var_dic_list()) "
    }
   },
   "types_to_exclude": [
    "module",
    "function",
    "builtin_function_or_method",
    "instance",
    "_Feature"
   ],
   "window_display": false
  }
 },
 "nbformat": 4,
 "nbformat_minor": 4
}
