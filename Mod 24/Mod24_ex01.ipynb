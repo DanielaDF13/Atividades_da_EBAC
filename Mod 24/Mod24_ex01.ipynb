{
 "cells": [
  {
   "cell_type": "markdown",
   "metadata": {},
   "source": [
    "## 1. Cite 5 diferenças entre o Random Forest e o AdaBoost"
   ]
  },
  {
   "cell_type": "markdown",
   "metadata": {},
   "source": [
    "<div style=\"background-color: #e6f7ff; padding: 20px; border: 3px solid #00b3b3; border-radius: 10px; box-shadow: 0 4px 8px rgba(0, 0, 0, 0.2);\">\n",
    "   <strong>Resposta:</strong> <br>\n",
    "   <strong>1.</strong> Random forest possui uma floresta de árvores e o AdaBoost de Stumps, sendo Stumps árvores de decisão com apenas 2 folhas e 1 nível de profundidade; <br>\n",
    "   <strong>2.</strong> No Random forest as árvores são independentemente e no AdaBoost uma árvore influencia na próxima; <br>\n",
    "   <strong>3.</strong> No Random forest as respostas das árvores tem o mesmo peso e no AdaBoost possuem pesos diferentes; <br>\n",
    "   <strong>4.</strong> Random forest possui árvores independentes e no AdaBoost cada interação possui peso diferente, fazendo com que erros nos dados recebam mais foco; <br>\n",
    "   <strong>5.</strong> No Random forest as árvores são treinadas paralelamente, isso não é possível no AdaBoost por suas árvores serem treinadas em sequência.\n",
    "</div>"
   ]
  },
  {
   "cell_type": "markdown",
   "metadata": {},
   "source": [
    "## 2. Acesse o link Scikit-learn– adaboost , leia a explicação (traduza se for preciso) e crie um jupyter notebook contendo o exemplo do AdaBoost."
   ]
  },
  {
   "cell_type": "code",
   "execution_count": 21,
   "metadata": {},
   "outputs": [
    {
     "data": {
      "text/plain": [
       "0.9533333333333334"
      ]
     },
     "execution_count": 21,
     "metadata": {},
     "output_type": "execute_result"
    }
   ],
   "source": [
    "from sklearn.model_selection import cross_val_score\n",
    "from sklearn.datasets import load_iris\n",
    "from sklearn.ensemble import AdaBoostClassifier\n",
    "\n",
    "X, y = load_iris(return_X_y=True)\n",
    "clf = AdaBoostClassifier(n_estimators=100, algorithm=\"SAMME\",)\n",
    "scores = cross_val_score(clf, X, y, cv=5)\n",
    "scores.mean()"
   ]
  },
  {
   "cell_type": "markdown",
   "metadata": {},
   "source": [
    "## 3. Cite 5 Hyperparametros importantes no AdaBoost."
   ]
  },
  {
   "cell_type": "markdown",
   "metadata": {},
   "source": [
    "<div style=\"background-color: #e6f7ff; padding: 20px; border: 3px solid #00b3b3; border-radius: 10px; box-shadow: 0 4px 8px rgba(0, 0, 0, 0.2);\">\n",
    "    <strong> estimator: </strong> Serve para definir o tipo de modelo base que será utilizado durante o treinamento, sendo o default o DecisionTreeClassifier. <br>\n",
    "    <strong> n_estimators: </strong> Controla o número de iterações do algoritmo.<br>\n",
    "    <strong> learning_rate: </strong> Determina o peso atribuído a cada classificador na combinação final das previsões, impactando diretamente a forma como o modelo aprende e ajusta seus erros.<br>\n",
    "    <strong> algorithm: </strong> Utilizado para escolher o método específico de combinação dos classificadores durante o processo de treinamento, possuindo dois métodos o SAMME e o SAMME.R. <br>\n",
    "    <strong> random_state: </strong> Controla a sequência de aleatoriedade durante o treinamento do modelo, garantindo reprodutibilidade dos resultados. <br>"
   ]
  },
  {
   "cell_type": "markdown",
   "metadata": {},
   "source": [
    "## 4. (Opcional) Utilize o GridSearch para encontrar os melhores hyperparametros para o conjunto de dados do exemplo (load_iris)"
   ]
  },
  {
   "cell_type": "code",
   "execution_count": 24,
   "metadata": {},
   "outputs": [
    {
     "name": "stdout",
     "output_type": "stream",
     "text": [
      "Melhores parâmetros: {'algorithm': 'SAMME', 'learning_rate': 0.1, 'n_estimators': 200}\n"
     ]
    }
   ],
   "source": [
    "from sklearn.model_selection import GridSearchCV\n",
    "import warnings\n",
    "\n",
    "warnings.filterwarnings('ignore')\n",
    "\n",
    "# Definindo o classificador\n",
    "clf = AdaBoostClassifier()\n",
    "\n",
    "# Definindo os parâmetros a serem otimizados\n",
    "param_grid = {\n",
    "    'n_estimators': [50, 100, 200, 300],  # número de estimadores\n",
    "    'learning_rate': [ 0.01, 0.1, 0.5, 1],  # taxa de aprendizado\n",
    "    'algorithm': ['SAMME', 'SAMME.R']  # algoritmo\n",
    "}\n",
    "\n",
    "# Inicializando o GridSearchCV com validação cruzada de 5 folds\n",
    "grid_search = GridSearchCV(estimator=clf, param_grid=param_grid, cv=5, scoring='accuracy')\n",
    "\n",
    "# Ajustando o GridSearchCV aos dados\n",
    "grid_search.fit(X, y)\n",
    "\n",
    "# Exibindo os melhores parâmetros encontrados\n",
    "print(\"Melhores parâmetros:\", grid_search.best_params_)\n"
   ]
  }
 ],
 "metadata": {
  "kernelspec": {
   "display_name": "Python 3 (ipykernel)",
   "language": "python",
   "name": "python3"
  },
  "language_info": {
   "codemirror_mode": {
    "name": "ipython",
    "version": 3
   },
   "file_extension": ".py",
   "mimetype": "text/x-python",
   "name": "python",
   "nbconvert_exporter": "python",
   "pygments_lexer": "ipython3",
   "version": "3.12.4"
  },
  "varInspector": {
   "cols": {
    "lenName": 16,
    "lenType": 16,
    "lenVar": 40
   },
   "kernels_config": {
    "python": {
     "delete_cmd_postfix": "",
     "delete_cmd_prefix": "del ",
     "library": "var_list.py",
     "varRefreshCmd": "print(var_dic_list())"
    },
    "r": {
     "delete_cmd_postfix": ") ",
     "delete_cmd_prefix": "rm(",
     "library": "var_list.r",
     "varRefreshCmd": "cat(var_dic_list()) "
    }
   },
   "types_to_exclude": [
    "module",
    "function",
    "builtin_function_or_method",
    "instance",
    "_Feature"
   ],
   "window_display": false
  }
 },
 "nbformat": 4,
 "nbformat_minor": 4
}
