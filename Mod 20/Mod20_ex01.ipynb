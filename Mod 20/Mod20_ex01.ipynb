{
 "cells": [
  {
   "cell_type": "markdown",
   "id": "ed0e7d34-2ecd-4eb7-aba7-122e28cbf30e",
   "metadata": {},
   "source": [
    "<h1 style=\"color:#6082B6\">Fórmula de Bhaskara</h1>"
   ]
  },
  {
   "cell_type": "markdown",
   "id": "dac044f4-6852-4941-8ebd-d8aedf2c5d53",
   "metadata": {},
   "source": [
    "A solução para uma função de segundo grau depende das suas raízes (valores de x). Como já vimos, os coeficientes<br>\n",
    "precisam ser números reais e o angular diferente de zero. Sendo assim, temos a seguinte fórmula de Bhaskara:\n",
    "    "
   ]
  },
  {
   "cell_type": "markdown",
   "id": "0e7c70cf-4aac-4567-9c13-7d586a4f2848",
   "metadata": {},
   "source": [
    "\n",
    "<span style=\"font-size:3em;\"> $$x=\\frac{-b \\pm \\sqrt{b^2 -4.a.c}}{2.a}$$ </span>\n",
    "<p style=\"text-align: center;\"><em>Fórmula de Bhaskara.</em></p>"
   ]
  },
  {
   "cell_type": "markdown",
   "id": "54723c42-fd4b-4db3-ac5a-85f580a2de69",
   "metadata": {},
   "source": [
    "Para melhor compreensão o seu cálculo é dividido em duas partes: discriminante da equação e operações para<br>\n",
    "determinar as raízes.\n",
    "\n",
    "**Discriminante** \n",
    "\n",
    "A figura dentro da raiz na fórmula de Bhaskara é nomeada de discriminante. Seu símbolo é a letra grega delta e<br> \n",
    "apresenta a determinada fórmula:\n"
   ]
  },
  {
   "cell_type": "markdown",
   "id": "19914988-ed94-466d-bcb2-18ab68169093",
   "metadata": {
    "tags": []
   },
   "source": [
    "<span style=\"font-size:4em;\"> $$ \\Delta=b^2-4.a.c $$ </span>\n",
    "<p style=\"text-align: center;\"><em>Fórmula da discriminante.</em></p>"
   ]
  },
  {
   "cell_type": "markdown",
   "id": "e0b2d680-c58c-403e-90f0-a86cc59a97da",
   "metadata": {},
   "source": [
    "- Se o delta for maior que zero, a equação terá dois valores reais e distintos. \n",
    "- Se o delta for igual a zero, a equação terá somente um valor real ou dois resultados iguais. \n",
    "- Se o delta for menor que zero, a equação não possuirá valores reais. "
   ]
  }
 ],
 "metadata": {
  "kernelspec": {
   "display_name": "Python 3 (ipykernel)",
   "language": "python",
   "name": "python3"
  },
  "language_info": {
   "codemirror_mode": {
    "name": "ipython",
    "version": 3
   },
   "file_extension": ".py",
   "mimetype": "text/x-python",
   "name": "python",
   "nbconvert_exporter": "python",
   "pygments_lexer": "ipython3",
   "version": "3.12.4"
  }
 },
 "nbformat": 4,
 "nbformat_minor": 5
}
