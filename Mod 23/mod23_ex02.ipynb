{
 "cells": [
  {
   "cell_type": "markdown",
   "id": "a8652878-811f-41ff-b500-6ebdc551140c",
   "metadata": {},
   "source": [
    "## 1. Monte um passo a passo para o algoritmo RF "
   ]
  },
  {
   "cell_type": "markdown",
   "id": "35153eb2-abf1-4328-838a-7199b92c7a89",
   "metadata": {},
   "source": [
    "<div style=\"background-color: #e6f7ff; padding: 20px; border: 3px solid #00b3b3; border-radius: 10px; box-shadow: 0 4px 8px rgba(0, 0, 0, 0.2);\">\n",
    "   <strong>Resposta:</strong>\n",
    "    Primeiramente se cria  um n número de novos datasets como a mesma quantidade de linhas, podendo haver reposição de linhas esse  passo é chamado de Bootstrap, esse novos datasets possuem um número m de colunas que são selecionadas aleatoriamente, sendo m por padrão para classificação a raiz de p e para regressão um terço de p onde p é o número de colunas do dataset original, esse passo é chamado de feature selection. \n",
    "\r\n",
    "Para cada subconjunto de dados  é treinado uma  árvore de decisão, após combine as predições dos modelos para obter a predição final essa pode ser feita de duas formas para classificação binária se faz por quantidade majoritária de votos ou em caso de uma regressão se faz uma média e esse passo é chamado de Aggregatn..g\r\n",
    "\n",
    "</div>\n"
   ]
  },
  {
   "cell_type": "markdown",
   "id": "355e9a8d-d428-4602-85f9-aa0ff4873bdd",
   "metadata": {},
   "source": [
    "## 2. Explique com suas palavras o Random forest "
   ]
  },
  {
   "cell_type": "markdown",
   "id": "312d3ccf-8ad0-4dc8-b828-78832c35d8dd",
   "metadata": {},
   "source": [
    "<div style=\"background-color: #e6f7ff; padding: 20px; border: 3px solid #00b3b3; border-radius: 10px; box-shadow: 0 4px 8px rgba(0, 0, 0, 0.2);\">\n",
    "   <strong>Resposta:</strong>\n",
    "    Random Forest é um algoritmo de aprendizado de máquina que combina resultado de várias árvores de decisão para chegar em um único resultado.\n",
    "</div>"
   ]
  },
  {
   "cell_type": "markdown",
   "id": "60eb331e-3a32-4108-93ee-1a2a0f6ef2c5",
   "metadata": {},
   "source": [
    "## 3. Qual a diferença entre Bagging e Random Forest?"
   ]
  },
  {
   "cell_type": "markdown",
   "id": "f6fca412-6f67-4152-9f79-40ec01d75102",
   "metadata": {},
   "source": [
    "<div style=\"background-color: #e6f7ff; padding: 20px; border: 3px solid #00b3b3; border-radius: 10px; box-shadow: 0 4px 8px rgba(0, 0, 0, 0.2);\">\n",
    "   <strong>Resposta:</strong>\n",
    "    O Random Forest utiliza de feature selection, o que faz com que suas amostras sejam mais independentes, o tornando mais robusto ao overfitting.\n",
    "</div>"
   ]
  }
 ],
 "metadata": {
  "kernelspec": {
   "display_name": "Python 3 (ipykernel)",
   "language": "python",
   "name": "python3"
  },
  "language_info": {
   "codemirror_mode": {
    "name": "ipython",
    "version": 3
   },
   "file_extension": ".py",
   "mimetype": "text/x-python",
   "name": "python",
   "nbconvert_exporter": "python",
   "pygments_lexer": "ipython3",
   "version": "3.12.4"
  }
 },
 "nbformat": 4,
 "nbformat_minor": 5
}
